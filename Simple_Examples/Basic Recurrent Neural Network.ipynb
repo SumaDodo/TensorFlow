{
 "cells": [
  {
   "cell_type": "code",
   "execution_count": 1,
   "metadata": {},
   "outputs": [
    {
     "name": "stderr",
     "output_type": "stream",
     "text": [
      "C:\\Users\\sumas\\Anaconda3\\lib\\site-packages\\h5py\\__init__.py:34: FutureWarning: Conversion of the second argument of issubdtype from `float` to `np.floating` is deprecated. In future, it will be treated as `np.float64 == np.dtype(float).type`.\n",
      "  from ._conv import register_converters as _register_converters\n"
     ]
    }
   ],
   "source": [
    "import numpy as np\n",
    "import tensorflow as tf"
   ]
  },
  {
   "cell_type": "code",
   "execution_count": 4,
   "metadata": {},
   "outputs": [],
   "source": [
    "no_of_inputs = 3\n",
    "no_of_neurons = 5\n",
    "\n",
    "x0 = tf.placeholder(tf.float32, [None, no_of_inputs])\n",
    "x1 = tf.placeholder(tf.float32, [None, no_of_inputs])\n",
    "\n",
    "#tf.Variable represents a tensor whose value can be changed by running ops on it. Stores persistent tensor\n",
    "wx = tf.Variable(tf.random_normal(shape=[no_of_inputs, no_of_neurons], dtype = tf.float32))\n",
    "wy = tf.Variable(tf.random_normal(shape=[no_of_neurons, no_of_neurons], dtype = tf.float32))\n",
    "bias = tf.Variable(tf.zeros([1, no_of_neurons], dtype = tf.float32))\n",
    "\n",
    "y0 = tf.tanh(tf.matmul(x0,wx)+bias)\n",
    "y1 = tf.tanh(tf.matmul(y0,wy) + tf.matmul(x1,wx)+bias)\n",
    "\n",
    "init = tf.global_variables_initializer()"
   ]
  },
  {
   "cell_type": "code",
   "execution_count": 5,
   "metadata": {
    "collapsed": true
   },
   "outputs": [],
   "source": [
    "X0_batch = np.array([[0,1,2],[3,4,5],[6,7,8],[9,0,1]]) # t=0\n",
    "X1_batch = np.array([[9,8,7],[0,0,0],[6,5,4],[3,2,1]])"
   ]
  },
  {
   "cell_type": "code",
   "execution_count": 6,
   "metadata": {
    "collapsed": true
   },
   "outputs": [],
   "source": [
    "with tf.Session() as sess:\n",
    "    init.run()\n",
    "    y0_val, y1_val = sess.run([y0,y1], feed_dict={x0:X0_batch, x1:X1_batch})"
   ]
  },
  {
   "cell_type": "code",
   "execution_count": 7,
   "metadata": {},
   "outputs": [
    {
     "name": "stdout",
     "output_type": "stream",
     "text": [
      "[[-0.9938276  -0.22139739  0.3100919  -0.9997919  -0.43286067]\n",
      " [-0.99999976 -0.98123217  0.9650564  -1.         -0.96166456]\n",
      " [-1.         -0.9997185   0.9987997  -1.         -0.9980721 ]\n",
      " [ 0.95164174 -0.9999852  -0.96563226 -0.9999338  -0.9999993 ]]\n"
     ]
    }
   ],
   "source": [
    "print(y0_val)"
   ]
  },
  {
   "cell_type": "code",
   "execution_count": 8,
   "metadata": {},
   "outputs": [
    {
     "name": "stdout",
     "output_type": "stream",
     "text": [
      "[[-1.         -0.9999907   0.99995166 -1.         -0.95512754]\n",
      " [-0.9926963  -0.41656077  0.26434013 -0.99890566  0.9931155 ]\n",
      " [-1.         -0.99972725  0.99750805 -1.          0.3063197 ]\n",
      " [-0.9923136   0.02557137  0.13982907 -0.9746943  -0.95565957]]\n"
     ]
    }
   ],
   "source": [
    "print(y1_val)"
   ]
  },
  {
   "cell_type": "code",
   "execution_count": null,
   "metadata": {
    "collapsed": true
   },
   "outputs": [],
   "source": []
  }
 ],
 "metadata": {
  "kernelspec": {
   "display_name": "Python 3",
   "language": "python",
   "name": "python3"
  },
  "language_info": {
   "codemirror_mode": {
    "name": "ipython",
    "version": 3
   },
   "file_extension": ".py",
   "mimetype": "text/x-python",
   "name": "python",
   "nbconvert_exporter": "python",
   "pygments_lexer": "ipython3",
   "version": "3.6.3"
  }
 },
 "nbformat": 4,
 "nbformat_minor": 2
}
