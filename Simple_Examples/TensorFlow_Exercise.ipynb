{
 "cells": [
  {
   "cell_type": "markdown",
   "metadata": {},
   "source": [
    "> The computations are done using **data flow graphs** where:  \n",
    "> 1. Nodes represent the mathematical operations\n",
    "> 2. Edges represent the flow of data"
   ]
  },
  {
   "cell_type": "code",
   "execution_count": 2,
   "metadata": {},
   "outputs": [
    {
     "name": "stdout",
     "output_type": "stream",
     "text": [
      "10\n"
     ]
    },
    {
     "name": "stderr",
     "output_type": "stream",
     "text": [
      "C:\\Users\\sumas\\Anaconda3\\lib\\site-packages\\h5py\\__init__.py:34: FutureWarning: Conversion of the second argument of issubdtype from `float` to `np.floating` is deprecated. In future, it will be treated as `np.float64 == np.dtype(float).type`.\n",
      "  from ._conv import register_converters as _register_converters\n"
     ]
    },
    {
     "name": "stdout",
     "output_type": "stream",
     "text": [
      "<tf.Variable 'y:0' shape=() dtype=int32_ref>\n"
     ]
    }
   ],
   "source": [
    "#python vs tensorflow understanding\n",
    "\n",
    "#simple python code\n",
    "x = 1 #independent variable\n",
    "y = x+9 #dependent variable\n",
    "print (y)\n",
    "\n",
    "#In tensorflow\n",
    "import tensorflow as tf\n",
    "\n",
    "x = tf.constant(1, name=\"x\")\n",
    "y = tf.Variable(x+9, name=\"y\")\n",
    "print (y)"
   ]
  },
  {
   "cell_type": "code",
   "execution_count": 5,
   "metadata": {},
   "outputs": [
    {
     "name": "stdout",
     "output_type": "stream",
     "text": [
      "ERROR:tensorflow:==================================\n",
      "Object was never used (type <class 'tensorflow.python.framework.ops.Operation'>):\n",
      "<tf.Operation 'init' type=NoOp>\n",
      "If you want to mark it as used call its \"mark_used()\" method.\n",
      "It was originally created here:\n",
      "  File \"C:\\Users\\sumas\\Anaconda3\\lib\\runpy.py\", line 193, in _run_module_as_main\n",
      "    \"__main__\", mod_spec)  File \"C:\\Users\\sumas\\Anaconda3\\lib\\runpy.py\", line 85, in _run_code\n",
      "    exec(code, run_globals)  File \"C:\\Users\\sumas\\Anaconda3\\lib\\site-packages\\ipykernel_launcher.py\", line 16, in <module>\n",
      "    app.launch_new_instance()  File \"C:\\Users\\sumas\\Anaconda3\\lib\\site-packages\\traitlets\\config\\application.py\", line 658, in launch_instance\n",
      "    app.start()  File \"C:\\Users\\sumas\\Anaconda3\\lib\\site-packages\\ipykernel\\kernelapp.py\", line 477, in start\n",
      "    ioloop.IOLoop.instance().start()  File \"C:\\Users\\sumas\\Anaconda3\\lib\\site-packages\\zmq\\eventloop\\ioloop.py\", line 177, in start\n",
      "    super(ZMQIOLoop, self).start()  File \"C:\\Users\\sumas\\Anaconda3\\lib\\site-packages\\tornado\\ioloop.py\", line 888, in start\n",
      "    handler_func(fd_obj, events)  File \"C:\\Users\\sumas\\Anaconda3\\lib\\site-packages\\tornado\\stack_context.py\", line 279, in null_wrapper\n",
      "    _state.contexts = current_state  File \"C:\\Users\\sumas\\Anaconda3\\lib\\site-packages\\zmq\\eventloop\\zmqstream.py\", line 454, in _handle_events\n",
      "    raise  File \"C:\\Users\\sumas\\Anaconda3\\lib\\site-packages\\zmq\\eventloop\\zmqstream.py\", line 472, in _handle_recv\n",
      "    self._run_callback(callback, msg)  File \"C:\\Users\\sumas\\Anaconda3\\lib\\site-packages\\zmq\\eventloop\\zmqstream.py\", line 425, in _run_callback\n",
      "    raise  File \"C:\\Users\\sumas\\Anaconda3\\lib\\site-packages\\tornado\\stack_context.py\", line 279, in null_wrapper\n",
      "    _state.contexts = current_state  File \"C:\\Users\\sumas\\Anaconda3\\lib\\site-packages\\ipykernel\\kernelbase.py\", line 283, in dispatcher\n",
      "    return self.dispatch_shell(stream, msg)  File \"C:\\Users\\sumas\\Anaconda3\\lib\\site-packages\\ipykernel\\kernelbase.py\", line 243, in dispatch_shell\n",
      "    self._publish_status(u'idle')  File \"C:\\Users\\sumas\\Anaconda3\\lib\\site-packages\\ipykernel\\kernelbase.py\", line 421, in execute_request\n",
      "    self._abort_queues()  File \"C:\\Users\\sumas\\Anaconda3\\lib\\site-packages\\ipykernel\\ipkernel.py\", line 246, in do_execute\n",
      "    return reply_content  File \"C:\\Users\\sumas\\Anaconda3\\lib\\site-packages\\ipykernel\\zmqshell.py\", line 533, in run_cell\n",
      "    return super(ZMQInteractiveShell, self).run_cell(*args, **kwargs)  File \"C:\\Users\\sumas\\Anaconda3\\lib\\site-packages\\IPython\\core\\interactiveshell.py\", line 2717, in run_cell\n",
      "    return result  File \"C:\\Users\\sumas\\Anaconda3\\lib\\site-packages\\IPython\\core\\interactiveshell.py\", line 2803, in run_ast_nodes\n",
      "    return True  File \"C:\\Users\\sumas\\Anaconda3\\lib\\site-packages\\IPython\\core\\interactiveshell.py\", line 2882, in run_code\n",
      "    return outflag  File \"<ipython-input-4-2b4d0a95d087>\", line 1, in <module>\n",
      "    model = tf.initialize_all_variables()  File \"C:\\Users\\sumas\\Anaconda3\\lib\\site-packages\\tensorflow\\python\\util\\tf_should_use.py\", line 189, in wrapped\n",
      "    return _add_should_use_warning(fn(*args, **kwargs))\n",
      "==================================\n",
      "10\n"
     ]
    }
   ],
   "source": [
    "model = tf.initialize_all_variables()\n",
    "\n",
    "with tf.Session() as session:\n",
    "    session.run(model)\n",
    "    print(session.run(y))"
   ]
  },
  {
   "cell_type": "code",
   "execution_count": 1,
   "metadata": {},
   "outputs": [
    {
     "name": "stderr",
     "output_type": "stream",
     "text": [
      "C:\\Users\\sumas\\Anaconda3\\lib\\site-packages\\h5py\\__init__.py:34: FutureWarning: Conversion of the second argument of issubdtype from `float` to `np.floating` is deprecated. In future, it will be treated as `np.float64 == np.dtype(float).type`.\n",
      "  from ._conv import register_converters as _register_converters\n"
     ]
    }
   ],
   "source": [
    "import tensorflow as tf"
   ]
  },
  {
   "cell_type": "code",
   "execution_count": 3,
   "metadata": {},
   "outputs": [
    {
     "name": "stdout",
     "output_type": "stream",
     "text": [
      "[[1.8675029 1.4389979]\n",
      " [1.7926414 1.4254171]\n",
      " [2.0017357 1.4101871]]\n"
     ]
    }
   ],
   "source": [
    "import numpy as np\n",
    "\n",
    "matrix_1 = np.random.rand(3,5)\n",
    "matrix_2 = np.random.rand(5,2)\n",
    "\n",
    "a = tf.placeholder(tf.float32, None, name=\"a\")\n",
    "b = tf.placeholder(tf.float32, None, name=\"b\")\n",
    "c = tf.matmul(a,b)\n",
    "\n",
    "with tf.Session() as session:\n",
    "    result = session.run(c, feed_dict={a: matrix_1,b: matrix_2})\n",
    "    print(result)"
   ]
  },
  {
   "cell_type": "code",
   "execution_count": null,
   "metadata": {
    "collapsed": true
   },
   "outputs": [],
   "source": []
  }
 ],
 "metadata": {
  "kernelspec": {
   "display_name": "Python 3",
   "language": "python",
   "name": "python3"
  },
  "language_info": {
   "codemirror_mode": {
    "name": "ipython",
    "version": 3
   },
   "file_extension": ".py",
   "mimetype": "text/x-python",
   "name": "python",
   "nbconvert_exporter": "python",
   "pygments_lexer": "ipython3",
   "version": "3.6.3"
  }
 },
 "nbformat": 4,
 "nbformat_minor": 2
}
