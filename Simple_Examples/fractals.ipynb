{
 "cells": [
  {
   "cell_type": "code",
   "execution_count": 1,
   "metadata": {},
   "outputs": [
    {
     "name": "stderr",
     "output_type": "stream",
     "text": [
      "C:\\Users\\sumas\\Anaconda3\\lib\\site-packages\\h5py\\__init__.py:34: FutureWarning: Conversion of the second argument of issubdtype from `float` to `np.floating` is deprecated. In future, it will be treated as `np.float64 == np.dtype(float).type`.\n",
      "  from ._conv import register_converters as _register_converters\n"
     ]
    }
   ],
   "source": [
    "import tensorflow as tf\n",
    "import numpy as np\n",
    "import matplotlib.pyplot as plt"
   ]
  },
  {
   "cell_type": "code",
   "execution_count": 2,
   "metadata": {
    "collapsed": true
   },
   "outputs": [],
   "source": [
    "Y, X = np.mgrid[-1.3:1.3:0.005, -2:2:0.005] #mandelbrot set"
   ]
  },
  {
   "cell_type": "code",
   "execution_count": 3,
   "metadata": {},
   "outputs": [
    {
     "data": {
      "text/plain": [
       "(array([[-1.3  , -1.3  , -1.3  , ..., -1.3  , -1.3  , -1.3  ],\n",
       "        [-1.295, -1.295, -1.295, ..., -1.295, -1.295, -1.295],\n",
       "        [-1.29 , -1.29 , -1.29 , ..., -1.29 , -1.29 , -1.29 ],\n",
       "        ...,\n",
       "        [ 1.285,  1.285,  1.285, ...,  1.285,  1.285,  1.285],\n",
       "        [ 1.29 ,  1.29 ,  1.29 , ...,  1.29 ,  1.29 ,  1.29 ],\n",
       "        [ 1.295,  1.295,  1.295, ...,  1.295,  1.295,  1.295]]),\n",
       " array([[-2.   , -1.995, -1.99 , ...,  1.985,  1.99 ,  1.995],\n",
       "        [-2.   , -1.995, -1.99 , ...,  1.985,  1.99 ,  1.995],\n",
       "        [-2.   , -1.995, -1.99 , ...,  1.985,  1.99 ,  1.995],\n",
       "        ...,\n",
       "        [-2.   , -1.995, -1.99 , ...,  1.985,  1.99 ,  1.995],\n",
       "        [-2.   , -1.995, -1.99 , ...,  1.985,  1.99 ,  1.995],\n",
       "        [-2.   , -1.995, -1.99 , ...,  1.985,  1.99 ,  1.995]]))"
      ]
     },
     "execution_count": 3,
     "metadata": {},
     "output_type": "execute_result"
    }
   ],
   "source": [
    "Y, X"
   ]
  },
  {
   "cell_type": "code",
   "execution_count": 8,
   "metadata": {},
   "outputs": [
    {
     "name": "stdout",
     "output_type": "stream",
     "text": [
      "<tf.Variable 'Variable_4:0' shape=(520, 800) dtype=complex64_ref>\n"
     ]
    }
   ],
   "source": [
    "Z = X+1j*Y\n",
    "c = tf.constant(Z.astype(\"complex64\"))\n",
    "\n",
    "zs = tf.Variable(c)\n",
    "ns = tf.Variable(tf.zeros_like(c, \"float32\"))\n",
    "print(zs)"
   ]
  },
  {
   "cell_type": "code",
   "execution_count": 6,
   "metadata": {},
   "outputs": [
    {
     "name": "stderr",
     "output_type": "stream",
     "text": [
      "C:\\Users\\sumas\\Anaconda3\\lib\\site-packages\\tensorflow\\python\\client\\session.py:1702: UserWarning: An interactive session is already active. This can cause out-of-memory errors in some cases. You must explicitly call `InteractiveSession.close()` to release resources held by the other session(s).\n",
      "  warnings.warn('An interactive session is already active. This can '\n"
     ]
    }
   ],
   "source": [
    "sess = tf.InteractiveSession()\n",
    "tf.initialize_all_variables().run()"
   ]
  },
  {
   "cell_type": "code",
   "execution_count": 9,
   "metadata": {
    "collapsed": true
   },
   "outputs": [],
   "source": [
    "#compute new values\n",
    "zs_ = zs*zs + c"
   ]
  },
  {
   "cell_type": "code",
   "execution_count": 11,
   "metadata": {},
   "outputs": [],
   "source": [
    "divergence = tf.abs(zs_) < 4"
   ]
  },
  {
   "cell_type": "code",
   "execution_count": 12,
   "metadata": {
    "collapsed": true
   },
   "outputs": [],
   "source": [
    "step = tf.group(zs.assign(zs_), ns.assign_add(tf.cast(divergence, \"float32\")))"
   ]
  },
  {
   "cell_type": "code",
   "execution_count": 19,
   "metadata": {},
   "outputs": [
    {
     "name": "stderr",
     "output_type": "stream",
     "text": [
      "C:\\Users\\sumas\\Anaconda3\\lib\\site-packages\\tensorflow\\python\\client\\session.py:1702: UserWarning: An interactive session is already active. This can cause out-of-memory errors in some cases. You must explicitly call `InteractiveSession.close()` to release resources held by the other session(s).\n",
      "  warnings.warn('An interactive session is already active. This can '\n"
     ]
    },
    {
     "data": {
      "image/png": "[encoded data removed]",
      "text/plain": [
       "<Figure size 432x288 with 1 Axes>"
      ]
     },
     "metadata": {},
     "output_type": "display_data"
    }
   ],
   "source": [
    "sess = tf.InteractiveSession()\n",
    "tf.initialize_all_variables().run()\n",
    "\n",
    "for i in range(200):\n",
    "    step.run()\n",
    "    \n",
    "plt.imshow(ns.eval())\n",
    "plt.show()"
   ]
  },
  {
   "cell_type": "code",
   "execution_count": null,
   "metadata": {
    "collapsed": true
   },
   "outputs": [],
   "source": []
  }
 ],
 "metadata": {
  "kernelspec": {
   "display_name": "Python 3",
   "language": "python",
   "name": "python3"
  },
  "language_info": {
   "codemirror_mode": {
    "name": "ipython",
    "version": 3
   },
   "file_extension": ".py",
   "mimetype": "text/x-python",
   "name": "python",
   "nbconvert_exporter": "python",
   "pygments_lexer": "ipython3",
   "version": "3.6.3"
  }
 },
 "nbformat": 4,
 "nbformat_minor": 2
}
