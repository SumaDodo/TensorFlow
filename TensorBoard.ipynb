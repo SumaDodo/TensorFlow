{
 "cells": [
  {
   "cell_type": "code",
   "execution_count": 2,
   "metadata": {},
   "outputs": [
    {
     "name": "stdout",
     "output_type": "stream",
     "text": [
      "Extracting MNIST_data\\train-images-idx3-ubyte.gz\n",
      "Extracting MNIST_data\\train-labels-idx1-ubyte.gz\n",
      "Extracting MNIST_data\\t10k-images-idx3-ubyte.gz\n",
      "Extracting MNIST_data\\t10k-labels-idx1-ubyte.gz\n"
     ]
    }
   ],
   "source": [
    "import tensorflow as tf\n",
    "from tensorflow.examples.tutorials.mnist import input_data\n",
    "\n",
    "#Download and extract the data\n",
    "data = input_data.read_data_sets('MNIST_data', one_hot = True)"
   ]
  },
  {
   "cell_type": "code",
   "execution_count": 3,
   "metadata": {
    "collapsed": true
   },
   "outputs": [],
   "source": [
    "#Step 1:\n",
    "#Defining the Placeholders\n",
    "with tf.name_scope('Input'):\n",
    "    #Attributes: datatype, shape and name\n",
    "    x = tf.placeholder(tf.float32,[None, 784],name = \"x\")\n",
    "    y_true = tf.placeholder(tf.float32,[None,10],name = \"labels\")\n",
    "    "
   ]
  },
  {
   "cell_type": "code",
   "execution_count": 4,
   "metadata": {
    "collapsed": true
   },
   "outputs": [],
   "source": [
    "#Step 2: \n",
    "#Defining the Variables\n",
    "with tf.name_scope('Weights'):\n",
    "    weights = tf.Variable(tf.random_uniform([784,10],-1,1),name=\"weights\")\n",
    "with tf.name_scope('Biases'):\n",
    "    biases = tf.Variable(tf.zeros([10]),name=\"biases\")"
   ]
  },
  {
   "cell_type": "code",
   "execution_count": 5,
   "metadata": {
    "collapsed": true
   },
   "outputs": [],
   "source": [
    "#Step 3:\n",
    "# Definining the model\n",
    "# Mathematical function that calculates output based on placeholder and variables\n",
    "with tf.name_scope('LinearModel'):\n",
    "    logits = tf.matmul(x,weights) + biases\n",
    "    y_pred = tf.nn.softmax(logits)"
   ]
  },
  {
   "cell_type": "code",
   "execution_count": 6,
   "metadata": {},
   "outputs": [
    {
     "name": "stdout",
     "output_type": "stream",
     "text": [
      "WARNING:tensorflow:From <ipython-input-6-01d125092d1d>:4: softmax_cross_entropy_with_logits (from tensorflow.python.ops.nn_ops) is deprecated and will be removed in a future version.\n",
      "Instructions for updating:\n",
      "\n",
      "Future major versions of TensorFlow will allow gradients to flow\n",
      "into the labels input on backprop by default.\n",
      "\n",
      "See tf.nn.softmax_cross_entropy_with_logits_v2.\n",
      "\n"
     ]
    }
   ],
   "source": [
    "#Step 4:\n",
    "# Definining cost measure\n",
    "with tf.name_scope('CrossEntropy'):\n",
    "    cross_entropy = tf.nn.softmax_cross_entropy_with_logits(logits=logits,labels=y_true)\n",
    "    loss = tf.reduce_mean(cross_entropy)"
   ]
  },
  {
   "cell_type": "code",
   "execution_count": 9,
   "metadata": {},
   "outputs": [
    {
     "name": "stdout",
     "output_type": "stream",
     "text": [
      "Loss:  9.403236\n",
      "Loss:  3.103614\n",
      "Loss:  2.0666628\n",
      "Loss:  1.1300629\n",
      "Loss:  0.9601855\n",
      "Loss:  1.1467078\n",
      "Loss:  0.7997995\n",
      "Loss:  0.656038\n",
      "Loss:  0.7654143\n",
      "Loss:  0.6231175\n",
      "Loss:  0.50243384\n",
      "Loss:  0.87901443\n",
      "Loss:  0.94874877\n",
      "Loss:  0.82310605\n",
      "Loss:  0.70969063\n",
      "Loss:  0.63900733\n",
      "Loss:  0.72762346\n",
      "Loss:  0.53127664\n",
      "Loss:  0.6253149\n",
      "Loss:  0.29609522\n",
      "Accuracy of model:  0.8424\n"
     ]
    }
   ],
   "source": [
    "#Step 5:\n",
    "# create optimizer\n",
    "with tf.name_scope('GDOptimizer'):\n",
    "    train_step = tf.train.GradientDescentOptimizer(learning_rate = 0.1).minimize(loss)\n",
    "    \n",
    "with tf.name_scope('Accuracy'):\n",
    "    y_pred_cls = tf.argmax(y_pred,dimension=1)\n",
    "    y_true_cls = tf.argmax(y_true,dimension=1)\n",
    "    correct_pred = tf.equal(y_pred_cls,y_true_cls)\n",
    "    accuracy = tf.reduce_mean(tf.cast(correct_pred,tf.float32))\n",
    "\n",
    "# adding summary nodes\n",
    "tf.summary.scalar(\"loss\", loss)\n",
    "tf.summary.scalar(\"accuracy\", accuracy)\n",
    "\n",
    "#histogram summaries\n",
    "tf.summary.histogram(\"weights\", weights)\n",
    "tf.summary.histogram(\"biases\", biases)\n",
    "\n",
    "#merging summaries\n",
    "summary_op = tf.summary.merge_all()\n",
    "\n",
    "\n",
    "with tf.Session() as sess:\n",
    "    writer = tf.summary.FileWriter('./graphs', graph=tf.get_default_graph()) #Creating file writer\n",
    "    num_iter = 1000\n",
    "    sess.run(tf.global_variables_initializer())\n",
    "\n",
    "    for i in range(num_iter):\n",
    "        x_batch,y_batch = data.train.next_batch(100)\n",
    "        feed_dict = {x: x_batch,y_true: y_batch}\n",
    "        _,summary = sess.run([train_step,summary_op],feed_dict)\n",
    "        writer.add_summary(summary,i)\n",
    "        if i % 50 == 0:\n",
    "            loss_val = sess.run(loss,feed_dict)\n",
    "            print(\"Loss: \",loss_val)\n",
    "    \n",
    "    x_test,y_test = data.test.next_batch(10000)    \n",
    "    print(\"Accuracy of model: \",accuracy.eval(feed_dict = {x:x_test,y_true:y_test}))"
   ]
  },
  {
   "cell_type": "code",
   "execution_count": null,
   "metadata": {
    "collapsed": true
   },
   "outputs": [],
   "source": []
  }
 ],
 "metadata": {
  "kernelspec": {
   "display_name": "Python 3",
   "language": "python",
   "name": "python3"
  },
  "language_info": {
   "codemirror_mode": {
    "name": "ipython",
    "version": 3
   },
   "file_extension": ".py",
   "mimetype": "text/x-python",
   "name": "python",
   "nbconvert_exporter": "python",
   "pygments_lexer": "ipython3",
   "version": "3.6.3"
  }
 },
 "nbformat": 4,
 "nbformat_minor": 2
}
